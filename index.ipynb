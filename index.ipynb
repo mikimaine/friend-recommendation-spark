{
 "cells": [
  {
   "cell_type": "code",
   "execution_count": null,
   "metadata": {},
   "outputs": [],
   "source": [
    "# USe this if running inside Databricks\n",
    "#data = sc.textFile(\"dbfs:/FileStore/tables/friend_user_ids.txt\")\n",
    "# data = sc.textFile(\"./friend_user_ids.txt\")\n",
    "from pyspark.sql import SparkSession\n",
    "\n",
    "\n",
    "spark = SparkSession.builder.appName(\"MoviePlotSearchEngine\").getOrCreate()\n",
    "spark.sparkContext\n",
    "data = spark.sparkContext.textFile(\"./friend_user_ids.txt\")\n"
   ]
  },
  {
   "cell_type": "code",
   "execution_count": 10,
   "metadata": {},
   "outputs": [],
   "source": [
    "def extract_user_friends(line):\n",
    "    parts = line.split(\"\\t\")\n",
    "    if len(parts) == 2:\n",
    "        user_id = parts[0].strip()\n",
    "        friends_list = parts[1].split(\",\")\n",
    "        if user_id.isdigit():\n",
    "            user_id = int(user_id)\n",
    "            friends = [int(friend.strip()) for friend in friends_list if friend.strip().isdigit()]\n",
    "            return user_id, friends\n",
    "    return None"
   ]
  },
  {
   "cell_type": "code",
   "execution_count": 11,
   "metadata": {},
   "outputs": [
    {
     "name": "stderr",
     "output_type": "stream",
     "text": [
      "[Stage 2:>                                                          (0 + 1) / 1]\r"
     ]
    },
    {
     "name": "stdout",
     "output_type": "stream",
     "text": [
      "[(0, [1, 2, 3, 4, 5, 6, 7, 8, 9, 10, 11, 12, 13, 14, 15, 16, 17, 18, 19, 20, 21, 22, 23, 24, 25, 26, 27, 28, 29, 30, 31, 32, 33, 34, 35, 36, 37, 38, 39, 40, 41, 42, 43, 44, 45, 46, 47, 48, 49, 50, 51, 52, 53, 54, 55, 56, 57, 58, 59, 60, 61, 62, 63, 64, 65, 66, 67, 68, 69, 70, 71, 72, 73, 74, 75, 76, 77, 78, 79, 80, 81, 82, 83, 84, 85, 86, 87, 88, 89, 90, 91, 92, 93, 94]), (1, [0, 5, 20, 135, 2409, 8715, 8932, 10623, 12347, 12846, 13840, 13845, 14005, 20075, 21556, 22939, 23520, 28193, 29724, 29791, 29826, 30691, 31232, 31435, 32317, 32489, 34394, 35589, 35605, 35606, 35613, 35633, 35648, 35678, 38737, 43447, 44846, 44887, 49226, 49985, 623, 629, 4999, 6156, 13912, 14248, 15190, 17636, 19217, 20074, 27536, 29481, 29726, 29767, 30257, 33060, 34250, 34280, 34392, 34406, 34418, 34420, 34439, 34450, 34651, 45054, 49592]), (2, [0, 117, 135, 1220, 2755, 12453, 24539, 24714, 41456, 45046, 49927, 6893, 13795, 16659, 32828, 41878]), (3, [0, 12, 41, 55, 1532, 12636, 13185, 27552, 38737]), (4, [0, 8, 14, 15, 18, 27, 72, 80, 15326, 19068, 19079, 24596, 42697, 46126, 74, 77, 33269, 38792, 38822])]\n"
     ]
    },
    {
     "name": "stderr",
     "output_type": "stream",
     "text": [
      "                                                                                \r"
     ]
    }
   ],
   "source": [
    "parsed_users = data.map(extract_user_friends).filter(lambda x: x is not None)\n",
    "print(parsed_users.take(5)) "
   ]
  },
  {
   "cell_type": "code",
   "execution_count": 12,
   "metadata": {},
   "outputs": [],
   "source": [
    "import itertools\n",
    "\n",
    "def map_friends_to_connections(user_with_friends):\n",
    "    user_id, friends = user_with_friends\n",
    "    connections = []\n",
    "\n",
    "    for friend_id in friends:\n",
    "        connection = (min(user_id, friend_id), max(user_id, friend_id))\n",
    "        connections.append((connection, 0))\n",
    "\n",
    "    for friend_pair in itertools.combinations(friends, 2):\n",
    "        mutual_connection = (min(friend_pair[0], friend_pair[1]), max(friend_pair[0], friend_pair[1]))\n",
    "        connections.append((mutual_connection, 1))\n",
    "\n",
    "    return connections\n",
    "\n",
    "friend_connections = parsed_users.flatMap(map_friends_to_connections).cache()\n",
    "\n",
    "mutual_friend_counts = friend_connections.reduceByKey(lambda a, b: a + b).filter(lambda edge: edge[1] > 0)"
   ]
  },
  {
   "cell_type": "code",
   "execution_count": 13,
   "metadata": {},
   "outputs": [
    {
     "name": "stderr",
     "output_type": "stream",
     "text": [
      "                                                                                \r"
     ]
    }
   ],
   "source": [
    "def generate_recommendations(mutual_friend_info):\n",
    "    connection, mutual_count = mutual_friend_info\n",
    "    user_1, user_2 = connection\n",
    "    return [(user_1, (user_2, mutual_count)), (user_2, (user_1, mutual_count))]\n",
    "\n",
    "import heapq\n",
    "\n",
    "def sort_and_truncate_recommendations(recs):\n",
    "    return heapq.nlargest(10, recs, key=lambda x: (x[1], -x[0]))\n",
    "\n",
    "# def sort_and_truncate_recommendations(recommendations):\n",
    "#     if len(recommendations) > 1024:\n",
    "#         recommendations = sorted(recommendations, key=lambda x: (-x[1], x[0]))[:10]  \n",
    "#     else:\n",
    "#         recommendations.sort(key=lambda x: (-x[1], x[0]))  \n",
    "#     return list(map(lambda x: x[0], recommendations))[:10]  \n",
    "\n",
    "recommendations = mutual_friend_counts.flatMap(generate_recommendations) \\\n",
    "                                      .groupByKey() \\\n",
    "                                      .map(lambda user_recs: (user_recs[0], sort_and_truncate_recommendations(list(user_recs[1]))))\n",
    "import random\n",
    "all_user_ids = recommendations.map(lambda rec: rec[0]).distinct().cache().collect()"
   ]
  },
  {
   "cell_type": "code",
   "execution_count": 14,
   "metadata": {},
   "outputs": [],
   "source": [
    "random_subset_user_ids = random.sample(all_user_ids, 10)\n",
    "filtered_recommendations = recommendations.filter(lambda rec: rec[0] in random_subset_user_ids)\n",
    "formatted_output = filtered_recommendations.map(lambda rec: f\"{rec[0]}\\t{','.join([str(r[0]) for r in rec[1]])}\")"
   ]
  },
  {
   "cell_type": "code",
   "execution_count": 15,
   "metadata": {},
   "outputs": [
    {
     "name": "stderr",
     "output_type": "stream",
     "text": [
      "[Stage 9:>                                                          (0 + 2) / 2]\r"
     ]
    },
    {
     "name": "stdout",
     "output_type": "stream",
     "text": [
      "2692\t2637,1688,2647,2659,2689,2691,2666,2667,2668,2677\n",
      "36488\t26735,26736,36486,36483,36487,36489,36495,36497,8956,11903\n",
      "49230\t49187,49200,49201,49206,49209,49211,49213,49217,49222,49228\n",
      "12270\t12248,12263,12278,12262,12265,12271,12279,12282,12290,12292\n",
      "22711\t22705,22706,22707,22713,22718,22708,14596,22712,22714,22715\n",
      "10359\t20997,7029,10332,10362,10435,11162,11250,12250,16624,20966\n",
      "23661\t23660,13998,44891,13966,14044,14078,14130,14138,14188,14055\n",
      "10773\t10794,10800,10784,10810,10811,4828,10788,10813,10805,10807\n",
      "3775\t3772,3761,3766,3767,3770,3773,3762,3765,3768,3771\n",
      "6891\t1918,4755,6318,6883,6884,6885,6886,6887,6888,6889\n"
     ]
    },
    {
     "name": "stderr",
     "output_type": "stream",
     "text": [
      "                                                                                \r"
     ]
    }
   ],
   "source": [
    "for line in formatted_output.collect():\n",
    "    print(line)"
   ]
  },
  {
   "cell_type": "code",
   "execution_count": null,
   "metadata": {},
   "outputs": [],
   "source": []
  }
 ],
 "metadata": {
  "kernelspec": {
   "display_name": "Python 3",
   "language": "python",
   "name": "python3"
  },
  "language_info": {
   "codemirror_mode": {
    "name": "ipython",
    "version": 3
   },
   "file_extension": ".py",
   "mimetype": "text/x-python",
   "name": "python",
   "nbconvert_exporter": "python",
   "pygments_lexer": "ipython3",
   "version": "3.12.1"
  }
 },
 "nbformat": 4,
 "nbformat_minor": 2
}
